{
 "cells": [
  {
   "cell_type": "markdown",
   "id": "8dd8ac6a-b3ca-450e-a415-17235ac25b0f",
   "metadata": {},
   "source": [
    "## Non-Parametric Tests\n",
    "\n",
    "#### Scenario 1:\n",
    "*You are a behavioral geologist measuring the reaction time of rocks in response to a tone. Specifically, you want to compare the median reaction time of geodes, to that of limestone. You recruit 20 rocks per group, and run your reaction-time experiment. What test would you use to compare median reaction times between geodes and limestone, and why?*\n",
    "\n",
    "I'd use a Mann-Whitney test to compare the reaction times between groups, since we have 2 unpaired (but probably not parametric) distributions that we want to compare on means. \n",
    "\n",
    "#### Scenario 2:\n",
    "*You are a brilliant scientist working at a biotech firm developing a vaccine that reverses aging. Wow! To test the efficacy of the vaccine, you recruit 50 people, give them a course of your vaccine, and measure their age with a (very) special scale before and after treatment. You want to start by refuting the simple that that the participants' measured ages are not changed by the treatment. What test do you use and why?*\n",
    "\n",
    "I'd use a Wilcoxon signed-rank test to compare the means of age measured pre- and post-treatment, since the within-subjects design makes the samples paired.\n",
    "\n",
    "#### Scenario 3\n",
    "*You are a neuroeconomist and believe you have developed a wearable device that can change consumer preferences about a given product. To test your device, you present product X to a group of 40 individuals, and ask them to fill out a survery assessing how much they like the product (larger score means they like it more). Then, you have the individuals wear the device, present product X, and assess how much they like of the product. You want to know if the device reliably increases, decreases, or does not affect their liking of product X. What test would you use and why? What result would indicate that their liking has increased?*\n",
    "\n",
    "I'd use a Wilcoxon signed-rank test to see if the mean of the difference scores differs from zero. A positive mean difference score that is significantly different from zero, per the Wilcoxon signed-rank test, would indicate that their liking has increased."
   ]
  }
 ],
 "metadata": {
  "kernelspec": {
   "display_name": "Python 3 (ipykernel)",
   "language": "python",
   "name": "python3"
  },
  "language_info": {
   "codemirror_mode": {
    "name": "ipython",
    "version": 3
   },
   "file_extension": ".py",
   "mimetype": "text/x-python",
   "name": "python",
   "nbconvert_exporter": "python",
   "pygments_lexer": "ipython3",
   "version": "3.9.6"
  }
 },
 "nbformat": 4,
 "nbformat_minor": 5
}
