{
 "cells": [
  {
   "cell_type": "markdown",
   "id": "43dddf0d-2432-422a-94d8-fd8b439aff2d",
   "metadata": {},
   "source": [
    "# Binomial Distribution: Quantal Release Exercises\n",
    "\n",
    "## Exercise 1\n",
    "Assume that there are 10 quanta available in a nerve terminal, and for a given release event each is released with a probability of 0.2. For one such event, what is the probability that 0, 1, 2, 3, 4, 5, 6, 7, 8, 9, or 10 quanta will be released?"
   ]
  },
  {
   "cell_type": "code",
   "execution_count": 3,
   "id": "a350372a-be4e-40e5-9cbb-519ab78cd0e6",
   "metadata": {},
   "outputs": [],
   "source": [
    "#load packages\n",
    "import numpy as np\n",
    "import random as rnd\n",
    "import collections\n",
    "import matplotlib.pyplot as plt\n",
    "import scipy.stats as st\n",
    "from scipy.stats import binom"
   ]
  },
  {
   "cell_type": "code",
   "execution_count": 30,
   "id": "7864a07d-5deb-4df2-9625-4b1c9b091d5b",
   "metadata": {},
   "outputs": [
    {
     "name": "stdout",
     "output_type": "stream",
     "text": [
      "There is a 0.10737418240000006 probability that 0 quanta are released\n",
      "There is a 0.26843545599999985 probability that 1 quanta are released\n",
      "There is a 0.30198988800000004 probability that 2 quanta are released\n",
      "There is a 0.20132659199999992 probability that 3 quanta are released\n",
      "There is a 0.0880803839999999 probability that 4 quanta are released\n",
      "There is a 0.026424115199999983 probability that 5 quanta are released\n",
      "There is a 0.005505024000000005 probability that 6 quanta are released\n",
      "There is a 0.000786432 probability that 7 quanta are released\n",
      "There is a 7.372800000000001e-05 probability that 8 quanta are released\n",
      "There is a 4.095999999999997e-06 probability that 9 quanta are released\n",
      "There is a 1.0240000000000006e-07 probability that 10 quanta are released\n",
      "0.26843545599999985\n"
     ]
    },
    {
     "data": {
      "image/png": "[encoded data removed]",
      "text/plain": [
       "<Figure size 640x480 with 1 Axes>"
      ]
     },
     "metadata": {},
     "output_type": "display_data"
    }
   ],
   "source": [
    "n=10 #number quanta (aka trials)\n",
    "p=0.2 #probability\n",
    "xs = range(n+1) #possible number quanta released per trial\n",
    "\n",
    "Y = binom.pmf(xs,n,p) #distribution\n",
    "\n",
    "#plot\n",
    "plt.bar(xs, Y, width=1, edgecolor=\"white\", linewidth=0.7)\n",
    "plt.xlim([-1, n+1])\n",
    "plt.title('Probability of quantal release')\n",
    "plt.xlabel('Quanta released')\n",
    "plt.ylabel('Probability')\n",
    "\n",
    "#answer in words\n",
    "q=0\n",
    "for y in Y:\n",
    "    print(f'There is a {y} probability that {q} quanta are released')\n",
    "    q=q+1"
   ]
  },
  {
   "cell_type": "markdown",
   "id": "375466c0-addb-45c2-82bd-dd3bd0828c0b",
   "metadata": {},
   "source": [
    "## Exercise 2\n",
    "\n",
    "Let's say you know that a given nerve terminal contains exactly 14 quanta available for release. You have read in the literature that the release probability of these quanta is low, say 0.1. To assess whether this value is reasonable, you run a simple experiment: activate the nerve and measure the number of quanta that are released. The result is 8 quanta. What is the probability that you would get this result (8 quanta) if the true probability of release really was 0.1? What about if the true release probability was much higher; say, 0.7? What about for each decile of release probability (0.1, 0.2, ... 1.0)? Which value of release probability did you determine to be the most probable, given your measurement?"
   ]
  },
  {
   "cell_type": "code",
   "execution_count": 36,
   "id": "94105eab-9a73-42e1-b481-dd0ca67188f7",
   "metadata": {},
   "outputs": [
    {
     "name": "stdout",
     "output_type": "stream",
     "text": [
      "There is a 0.0 probability that 8 quanta are released when p = 0.1\n",
      "There is a 7e-05 probability that 8 quanta are released when p = 0.2\n",
      "There is a 0.00145 probability that 8 quanta are released when p = 0.3\n",
      "There is a 0.01062 probability that 8 quanta are released when p = 0.4\n",
      "There is a 0.04395 probability that 8 quanta are released when p = 0.5\n",
      "There is a 0.12093 probability that 8 quanta are released when p = 0.6\n",
      "There is a 0.23347 probability that 8 quanta are released when p = 0.7\n",
      "There is a 0.30199 probability that 8 quanta are released when p = 0.8\n",
      "There is a 0.19371 probability that 8 quanta are released when p = 0.9\n",
      "There is a 0.0 probability that 8 quanta are released when p = 1.0\n"
     ]
    }
   ],
   "source": [
    "#Iterate across range of p's to extract calculated value of 8 quanta being released\n",
    "n_e2=10 #number quanta (aka trials)\n",
    "p_e2=0.1 #starting p\n",
    "xs_e2 = range(n+1) #possible number quanta released per trial\n",
    "\n",
    "while p_e2 <= 1:\n",
    "    Y = binom.pmf(xs_e2,n_e2,p_e2) #distribution\n",
    "    print(f'There is a {round(Y[8],5)} probability that 8 quanta are released when p = {p_e2}')\n",
    "    p_e2 = round(p_e2 + 0.1,2) #update to new p   "
   ]
  },
  {
   "cell_type": "markdown",
   "id": "e948cf73-af10-4609-abd9-c99ac181f58f",
   "metadata": {},
   "source": [
    "## Exercise 3\n",
    "\n",
    "Not feeling convinced by your single experiment (good scientist!), you repeat it under identical conditions. This time you measure 5 quanta that were released. Your sample size has now doubled, to two measurements. You now want to take into account both measurements when you assess the likelihoods of different possible values of the underlying release probability. To do so, assume that the two measurements in this sample are independent of one another; that is, the value of each result had no bearing on the other. In this case, the total likelihood is simply the product of the likelihoods associated with each separate measurement. It is also typical to compute the logarithm of each likelihood and take their sum, which is often more convenient. What are the values of the total likelihood and total log-likelihood in this example, if we assume that the true release probability is 0.1?\n",
    "\n",
    "Of course, knowing those values of the likelihood and log-likelihood is not particularly useful until you can compare them to the values computed for other possible values for the release probability, so you can determine which value of release probability is most likely, given the data. Therefore, compute the full likelihood and log-likelihood functions using deciles of release probability between 0 and 1. What is the maximum value? Can you improve your estimate by computing the functions at a higher resolution? How does the estimate improve as you increase the sample size?"
   ]
  },
  {
   "cell_type": "code",
   "execution_count": 41,
   "id": "8d14145f-b276-4388-944c-be982a9c1eb4",
   "metadata": {},
   "outputs": [
    {
     "name": "stdout",
     "output_type": "stream",
     "text": [
      "Total log likelihood at p=0.1: -9.265689379367839\n",
      "Total likelihood at p=0.1: 5.423886845999997e-10\n"
     ]
    }
   ],
   "source": [
    "#let's just focus on the scenario where p=0.1 for now\n",
    "#take the log-likelihood of 8 and 5 quanta released and sum:\n",
    "Y = binom.pmf(xs_e2,n_e2,0.1) #probabilities when p=0.1 \n",
    "total_log_lik = np.log10(Y[8]) + np.log10(Y[5])\n",
    "total_lik = (Y[8]) * (Y[5])\n",
    "print(f'Total log likelihood at p=0.1: {total_log_lik}')\n",
    "print(f'Total likelihood at p=0.1: {total_lik}')"
   ]
  },
  {
   "cell_type": "code",
   "execution_count": 93,
   "id": "41074a16-8650-43d6-b0b9-8bda0472117f",
   "metadata": {},
   "outputs": [
    {
     "name": "stdout",
     "output_type": "stream",
     "text": [
      "The most likely p tested by log at decile intervals is 0.6\n",
      "The most likely p tested at decile intervals is 0.6\n"
     ]
    },
    {
     "name": "stderr",
     "output_type": "stream",
     "text": [
      "/var/folders/jr/svb23qhs0wgfdhp2lf79s4zm0000gq/T/ipykernel_61051/1028265596.py:8: RuntimeWarning: divide by zero encountered in log\n",
      "  total_log_lik = np.log(Y[8]) + np.log(Y[5]) #calc total log likelihood\n"
     ]
    }
   ],
   "source": [
    "#compute over deciles from p=0 to 1\n",
    "p_new=0 #setting as VERY SMALL but not 0 b/c -Inf\n",
    "dict_log = {} #dictionary to store p and total log likelihood\n",
    "dict_total = {} #dictionary to store p and total likelihood\n",
    "\n",
    "while p_new <= 1:\n",
    "    Y = binom.pmf(xs_e2,n_e2,p_new) #distribution\n",
    "    total_log_lik = np.log(Y[8]) + np.log(Y[5]) #calc total log likelihood\n",
    "    dict_log[p_new] = float(total_log_lik) #add total log likelihood to dictionary\n",
    "    total_lik = (Y[8]) * (Y[5])\n",
    "    dict_total[p_new]=total_lik\n",
    "    p_new = round(p_new + 0.1,2) #update to new p \n",
    "\n",
    "max_log_p = max(dict_log, key=dict_log.get)\n",
    "max_p = max(dict_total, key=dict_total.get)\n",
    "print(f'The most likely p tested by log at decile intervals is {max_log_p}')\n",
    "print(f'The most likely p tested at decile intervals is {max_p}')"
   ]
  },
  {
   "cell_type": "code",
   "execution_count": null,
   "id": "b35893a3-9843-47db-b15d-9bf99369968a",
   "metadata": {},
   "outputs": [],
   "source": []
  },
  {
   "cell_type": "code",
   "execution_count": 87,
   "id": "8009ea06-5947-4d5f-98bc-a651225cc9ad",
   "metadata": {},
   "outputs": [
    {
     "data": {
      "text/plain": [
       "int"
      ]
     },
     "execution_count": 87,
     "metadata": {},
     "output_type": "execute_result"
    }
   ],
   "source": [
    "type(min(dict_log, key=dict_log.get))"
   ]
  }
 ],
 "metadata": {
  "kernelspec": {
   "display_name": "Python 3 (ipykernel)",
   "language": "python",
   "name": "python3"
  },
  "language_info": {
   "codemirror_mode": {
    "name": "ipython",
    "version": 3
   },
   "file_extension": ".py",
   "mimetype": "text/x-python",
   "name": "python",
   "nbconvert_exporter": "python",
   "pygments_lexer": "ipython3",
   "version": "3.9.6"
  }
 },
 "nbformat": 4,
 "nbformat_minor": 5
}
