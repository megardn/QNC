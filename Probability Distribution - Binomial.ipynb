{
 "cells": [
  {
   "cell_type": "markdown",
   "id": "afa91723",
   "metadata": {},
   "source": [
    "### Binomial Probability Distributions\n",
    "The following uses simulation to recapitulate the binomial probability distribution of suicidality in post-pubertal adolescents, as described by [Barzilay et al, 2019](https://www.cambridge.org/core/journals/the-british-journal-of-psychiatry/article/neurocognitive-functioning-in-community-youth-with-suicidal-ideation-gender-and-pubertal-effects/1FD593D54A07D324E0E7929662A8F208). Data used for simulation is presented in Table 1."
   ]
  },
  {
   "cell_type": "code",
   "execution_count": 15,
   "id": "e06adea2",
   "metadata": {},
   "outputs": [],
   "source": [
    "#load packages\n",
    "import numpy as np\n",
    "import random as rnd\n",
    "import collections\n",
    "import matplotlib.pyplot as plt\n",
    "import scipy.stats as st\n",
    "from scipy.stats import binom"
   ]
  },
  {
   "cell_type": "code",
   "execution_count": 19,
   "id": "ba6a7089",
   "metadata": {},
   "outputs": [
    {
     "name": "stdout",
     "output_type": "stream",
     "text": [
      "723 of 5000 youth report SI; simulated p = 0.1480, empirical p = 0.1446\n"
     ]
    }
   ],
   "source": [
    "#first, calculate p(SI) by dividing the number of suicidal adolescents/total sample:\n",
    "p = 432/2918\n",
    "\n",
    "#now let's say we sampled 10k adolescents\n",
    "n=5000\n",
    "num_si = binom.rvs(n,p)\n",
    "#print\n",
    "print(f'{num_si} of {n} youth report SI; simulated p = {p:.4f}, empirical p = {num_si/n:.4f}')"
   ]
  },
  {
   "cell_type": "code",
   "execution_count": 27,
   "id": "ee3e144c-c456-4399-b8be-6682e8435f06",
   "metadata": {},
   "outputs": [
    {
     "data": {
      "image/png": "[encoded data removed]",
      "text/plain": [
       "<Figure size 640x480 with 1 Axes>"
      ]
     },
     "metadata": {},
     "output_type": "display_data"
    }
   ],
   "source": [
    "#Let's say we repeat this experiment (or survey) 10k times, sampling 5000 adolescents each time. \n",
    "#What's the distribution of reported SI we'd observe?\n",
    "n_samp = 1000\n",
    "outcomes = binom.rvs(n,p,size=n_samp)\n",
    "\n",
    "#probability density function\n",
    "counts = collections.Counter(outcomes)\n",
    "normalized_counts = {k: v / total for total in (sum(counts.values()),) for k, v in counts.items()}\n",
    "\n",
    "plt.subplot(212)\n",
    "plt.bar(normalized_counts.keys(), normalized_counts.values())\n",
    "plt.xlim([-1, n/2])\n",
    "plt.xlabel(f'SI in {n} post-pubertal youth')\n",
    "plt.ylabel('Probability')\n",
    "plt.subplots_adjust(hspace=0.3)"
   ]
  },
  {
   "cell_type": "code",
   "execution_count": null,
   "id": "449c5874-85e5-457b-825b-7ab8daf66e91",
   "metadata": {},
   "outputs": [],
   "source": []
  }
 ],
 "metadata": {
  "kernelspec": {
   "display_name": "Python 3 (ipykernel)",
   "language": "python",
   "name": "python3"
  },
  "language_info": {
   "codemirror_mode": {
    "name": "ipython",
    "version": 3
   },
   "file_extension": ".py",
   "mimetype": "text/x-python",
   "name": "python",
   "nbconvert_exporter": "python",
   "pygments_lexer": "ipython3",
   "version": "3.9.6"
  }
 },
 "nbformat": 4,
 "nbformat_minor": 5
}
