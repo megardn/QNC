{
 "cells": [
  {
   "cell_type": "markdown",
   "id": "446bc3c5-5928-4d1e-8987-3a8fbf8a09be",
   "metadata": {
    "tags": []
   },
   "source": [
    "# Frequentist vs Bayesian Approaches\n",
    "QNC Assignment 1\n",
    "\n",
    "The learning objective is to gain insights into thinking about inference from a \"Frequentist\" versus a \"Bayesian\" perspective. In brief, because a Frequentist does not consider the probability of an event or state of the world or hypothesis, only their frequency of occurrance, it is not possible to ask questions of the form \"what is the probabilty that hypothesis x is true?\" Instead, one can only consider questions of the form, \"what is the probabilty that I would have obtained my data, given that hypothesis x is true?\" In contrast, Bayesians consider the probabilities of such things (often called the strength of belief), but doing so can require making assumptions that can be difficult to prove.\n",
    "\n",
    "Let's start with a simple example, taken from:\n",
    "__[wikipedia](https://en.wikipedia.org/wiki/Base_rate_fallacy#Example_1:_HIV)__\n",
    "\n",
    "\"Imagine running an HIV test on A SAMPLE of 1000 persons ...\"\n",
    "\n",
    "\"The test has a false positive rate of 5% (0.05)...\" i.e., the probability that someone who takes the test gets a POSITIVE result despite the fact that the person does NOT have HIV\n",
    "\n",
    "\"...and no false negative rate.\" i.e., The probability that someone who takes the test gets a NEGATIVE result despite the fact that the person DOES have HIV."
   ]
  },
  {
   "cell_type": "code",
   "execution_count": 41,
   "id": "4e431b0c-bf99-4427-9fc5-603b3b2ba613",
   "metadata": {},
   "outputs": [],
   "source": [
    "#import libraries\n",
    "import numpy as np\n",
    "import pandas as pd\n",
    "#import decimal as dec"
   ]
  },
  {
   "cell_type": "markdown",
   "id": "23431b79-bfc8-4d81-b2e6-99fc10996341",
   "metadata": {},
   "source": [
    "## Exercise 1\n",
    "*If someone gets a positive test, is it \"statistically significant\" at the p<0.05 level? Why or why not?*"
   ]
  },
  {
   "cell_type": "markdown",
   "id": "6d83b03e-b094-4643-94a8-c2488e544e32",
   "metadata": {},
   "source": [
    "Frequentist statistics define a result as \"statistically significant\" if the odds of the data being observed under the null hypothesis are below a given threshold, p. If these odds are very small, we assume the data didn't come from a distribution defined by the null hypothesis and that the alternative hypothesis is supported.\n",
    "\n",
    "In this example, the null hypothesis is that the person does not have HIV, but we observe a positive test. The probability of this given the null is synonymous with the test's false positive rate, which we know to be 0.05. Therefore, at the cutoff of p<0.05, this result is technically not significant."
   ]
  },
  {
   "cell_type": "markdown",
   "id": "f62b22b6-a1ee-4c2c-a9e7-f73dc7e7882e",
   "metadata": {},
   "source": [
    "## Exercise 2\n",
    "*What is the probability that if someone gets a positive test, that person is infected?*"
   ]
  },
  {
   "cell_type": "markdown",
   "id": "d8e55176-029b-4734-9e68-4618ab649373",
   "metadata": {},
   "source": [
    "This requires the Bayesian posterior probability, or probability that a hypothesis (someone has HIV) is true given the data (a positive test). \n",
    "\n",
    "$$\n",
    "p(Infected|Positive) = \\frac{p(Positive|Infected)xp(Infected)}{p(Positive)}\n",
    "$$\n",
    "\n",
    "To calculate this, we need to estimate a prior $p(Infected)$, or rate of people who are actually infected. __[About 7% of adults globally were living with HIV in 2021](https://www.kff.org/global-health-policy/fact-sheet/the-global-hivaids-epidemic/)__, so we'll estimate our prior as 0.07.\n",
    "Because there's no false negative, we know $p(Positive|Infected)=1$, i.e. everyone who's infected will have a positive test.\n",
    "The probability of having a positive test, $p(Positive)$, is the rate of true and false positives combined:"
   ]
  },
  {
   "cell_type": "code",
   "execution_count": 33,
   "id": "174eceec-77ef-42ff-b9ab-c94514b1a29b",
   "metadata": {},
   "outputs": [
    {
     "name": "stdout",
     "output_type": "stream",
     "text": [
      "0.1165\n"
     ]
    }
   ],
   "source": [
    "#setting known variables\n",
    "N=1000\n",
    "p_infect=0.07 #prior\n",
    "\n",
    "truep=1000*p_infect #ppl infected based on prior\n",
    "falsep=(N-truep)*.05 #5% of people who don't have HIV will test positive\n",
    "p_pos=(truep+falsep)/N #convert from ppl to probability \n",
    "#rate of positive tests\n",
    "print(p_pos)"
   ]
  },
  {
   "cell_type": "code",
   "execution_count": 35,
   "id": "5f223b6e-cdd6-453e-a165-b1d40ceb4114",
   "metadata": {},
   "outputs": [
    {
     "name": "stdout",
     "output_type": "stream",
     "text": [
      "The probability of someone who has a positive test being infected is 0.601\n"
     ]
    }
   ],
   "source": [
    "#Now we plug into Bayes Rule:\n",
    "p_hypothesis=(1*p_infect)/p_pos\n",
    "print(\"The probability of someone who has a positive test being infected is \" + str(round(p_hypothesis,3)))"
   ]
  },
  {
   "cell_type": "markdown",
   "id": "237a036b-d9c2-462f-a39b-ad3ae0cb9df0",
   "metadata": {},
   "source": [
    "*Following on Exercise 2, let's do the same thing, but this time we will try different values for the proportion of the population that is actually infected. What you should notice is that the PROPORTION INFECTED GIVEN A POSITIVE TEST depends (a lot!) on the OVERALL RATE OF INFECTION. Put another way, to determine the probabilty of a hypothesis, given your data (e.g., proportion infected given a positive test), you have to know the probability that the hypothesis was true without any data.*\n",
    "\n",
    "*Why is this the case? It is a simple consequence of the definition of a conditional probability, formulated as Bayes' Rule. Specifically, the joint probability of two events, call them A and B, is defined as:*\n",
    "\n",
    "$$\n",
    "p(A and B) = p(A)xp(B|A)\n",
    "$$\n",
    "$$\n",
    "p(B and A) = p(B)xp(A|B)\n",
    "$$\n",
    "\n",
    "*Now, calling A the Hypothesis and B the Data, then rearranging, we get:*\n",
    "\n",
    "$$\n",
    "p(Hypothesis|Data) = \\frac{p(Data|Hypothesis)xp(Hypothesis)}{p(Data)}\n",
    "$$\n",
    "\n",
    "*So you cannot calculate the probability of the hypothesis, given the data (i.e., the Bayesian posterior), without knowing the probability of the hypothesis independent of any data (i.e., the prior).*\n",
    "\n",
    "*For this exercise, assume a range of priors (infection rates) from 0 to 1 in steps of 0.1.*"
   ]
  },
  {
   "cell_type": "code",
   "execution_count": 45,
   "id": "5d572852-d8fb-422d-9b74-5a126bb4572e",
   "metadata": {},
   "outputs": [
    {
     "name": "stdout",
     "output_type": "stream",
     "text": [
      "The probability that someone who tests positive is infected, given an infection rate of 0 is 0.0\n",
      "The probability that someone who tests positive is infected, given an infection rate of 0.1 is 0.69\n",
      "The probability that someone who tests positive is infected, given an infection rate of 0.2 is 0.833\n",
      "The probability that someone who tests positive is infected, given an infection rate of 0.3 is 0.896\n",
      "The probability that someone who tests positive is infected, given an infection rate of 0.4 is 0.93\n",
      "The probability that someone who tests positive is infected, given an infection rate of 0.5 is 0.952\n",
      "The probability that someone who tests positive is infected, given an infection rate of 0.6 is 0.968\n",
      "The probability that someone who tests positive is infected, given an infection rate of 0.7 is 0.979\n",
      "The probability that someone who tests positive is infected, given an infection rate of 0.8 is 0.988\n",
      "The probability that someone who tests positive is infected, given an infection rate of 0.9 is 0.994\n",
      "The probability that someone who tests positive is infected, given an infection rate of 1.0 is 1.0\n"
     ]
    }
   ],
   "source": [
    "#Now we'll use the same procedure as above, but iteratively updating our priors from 0 to 1 by 0.1\n",
    "prior=0\n",
    "\n",
    "# Iterating using while loop\n",
    "while prior <= 1:\n",
    "    truep_new=1000*prior\n",
    "    falsep_new=(N-truep_new)*.05\n",
    "    p_pos_new=(truep_new+falsep_new)/N #positivity rate=true positives + false positives\n",
    "    p_hypothesis_new=(1*prior)/p_pos_new\n",
    "    print(\"The probability that someone who tests positive is infected, given an infection rate of \" + str(prior) + \" is \" + str(round(p_hypothesis_new,3)))\n",
    "    prior = round(prior + 0.1,2) #update to new prior"
   ]
  },
  {
   "cell_type": "code",
   "execution_count": null,
   "id": "91d5cad4-4f9d-4119-90b4-ae61ec6c7731",
   "metadata": {},
   "outputs": [],
   "source": []
  }
 ],
 "metadata": {
  "kernelspec": {
   "display_name": "Python 3 (ipykernel)",
   "language": "python",
   "name": "python3"
  },
  "language_info": {
   "codemirror_mode": {
    "name": "ipython",
    "version": 3
   },
   "file_extension": ".py",
   "mimetype": "text/x-python",
   "name": "python",
   "nbconvert_exporter": "python",
   "pygments_lexer": "ipython3",
   "version": "3.9.6"
  }
 },
 "nbformat": 4,
 "nbformat_minor": 5
}
