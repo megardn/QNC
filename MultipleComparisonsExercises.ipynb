{
 "cells": [
  {
   "cell_type": "markdown",
   "id": "57581a09-80d8-40fa-90f7-ff42253a1738",
   "metadata": {},
   "source": [
    "## Multiple Comparisons\n",
    "\n",
    "In this exercise we will run through an example of correcting for multiple comparisons with both the Benjamini-Hochberg procedure and the more conservative Bonferroni correction.\n",
    "\n",
    "First, simulate multiple (say, 1000) t-tests comparing two samples with equal means and standard deviations, and save the p-values. Obviously, at p<0.05 we expect that ~5% of the simulations to yield a \"statistically significant\" result (of rejecting the NULL hypothesis that the samples come from distributions with equal means)."
   ]
  },
  {
   "cell_type": "code",
   "execution_count": 1,
   "id": "59f67298-4513-4c8c-8faa-103b4b526722",
   "metadata": {},
   "outputs": [],
   "source": [
    "#import libraries\n",
    "import scipy.stats as st\n",
    "import numpy as np\n",
    "import statsmodels.stats.multitest as mt\n",
    "from statsmodels.stats.multitest import multipletests"
   ]
  },
  {
   "cell_type": "code",
   "execution_count": 2,
   "id": "b4094cee-0996-4a5b-b7f8-f202eafa34ce",
   "metadata": {},
   "outputs": [
    {
     "name": "stdout",
     "output_type": "stream",
     "text": [
      "4.5% of t-tests significant at alpha = 0.05\n"
     ]
    }
   ],
   "source": [
    "#simulating t-test of H0 (no difference in samples)\n",
    "n_test=1000\n",
    "\n",
    "p_list=[] #empty array (apparently this is the easy way to initialize)\n",
    "for test in np.arange(n_test):\n",
    "    X1 = np.random.normal(0, 1, 25)\n",
    "    X2 = np.random.normal(0, 1, 25)\n",
    "    tstat, pval = st.ttest_ind(X1, X2)\n",
    "    p_list.append(pval)\n",
    "    \n",
    "sig_count= sum(map(lambda x : x<0.05, p_list))\n",
    "print(f'{(sig_count/n_test)*100}% of t-tests significant at alpha = 0.05')"
   ]
  },
  {
   "cell_type": "markdown",
   "id": "05054185-496a-4452-92f0-69d33d665f3e",
   "metadata": {},
   "source": [
    "Second, once you have the simulated p-values, apply both methods to address the multiple comparisons problem."
   ]
  },
  {
   "cell_type": "code",
   "execution_count": 3,
   "id": "d223817d-a29d-47b9-9ea9-e3c2666700b5",
   "metadata": {},
   "outputs": [
    {
     "name": "stdout",
     "output_type": "stream",
     "text": [
      "0.0% of t-tests significant at FWER = 0.05, Bonferroni-Corrected\n"
     ]
    }
   ],
   "source": [
    "#Bonferroni Correction\n",
    "reject, p_correct, _, alpha_correct = mt.multipletests(p_list, alpha=0.05, method='bonferroni')\n",
    "\n",
    "print(f'{(sum(reject)/n_test)*100}% of t-tests significant at FWER = 0.05, Bonferroni-Corrected')"
   ]
  },
  {
   "cell_type": "code",
   "execution_count": 4,
   "id": "5795739b-67e0-4df9-9025-d8e3f0a30384",
   "metadata": {},
   "outputs": [
    {
     "name": "stdout",
     "output_type": "stream",
     "text": [
      "0.0% of t-tests significant at FWER = 0.05, Benjamini-Hochberg corrected\n"
     ]
    }
   ],
   "source": [
    "#Benjamini-Hochberg\n",
    "reject2, p_correct2, _, alpha_correct2 = mt.multipletests(p_list, alpha=0.05, method='fdr_bh')\n",
    "\n",
    "print(f'{(sum(reject2)/n_test)*100}% of t-tests significant at FWER = 0.05, Benjamini-Hochberg corrected')"
   ]
  },
  {
   "cell_type": "markdown",
   "id": "8973e7cd-1c18-446a-b660-604c0b00d4a4",
   "metadata": {},
   "source": [
    "Third, set the sample 1 and sample 2 means to be 1 and 2 respectively, and re-run the exercise. What do you notice? What if you make the difference between means even greater?"
   ]
  },
  {
   "cell_type": "code",
   "execution_count": 5,
   "id": "03c7c804-4ca1-490c-8e27-a49bb7b4ef22",
   "metadata": {},
   "outputs": [
    {
     "name": "stdout",
     "output_type": "stream",
     "text": [
      "When difference in means is 1, 93.50% of t-tests significant at alpha = 0.05, uncorrected; \n",
      " 22.10% of t-tests significant at FWER = 0.05, Bonferroni-Corrected; \n",
      "92.80% of t-tests significant at FWER = 0.05, Benjamini-Hochberg corrected\n",
      "When difference in means is 2, 100.00% of t-tests significant at alpha = 0.05, uncorrected; \n",
      " 99.10% of t-tests significant at FWER = 0.05, Bonferroni-Corrected; \n",
      "100.00% of t-tests significant at FWER = 0.05, Benjamini-Hochberg corrected\n",
      "When difference in means is 3, 100.00% of t-tests significant at alpha = 0.05, uncorrected; \n",
      " 100.00% of t-tests significant at FWER = 0.05, Bonferroni-Corrected; \n",
      "100.00% of t-tests significant at FWER = 0.05, Benjamini-Hochberg corrected\n",
      "When difference in means is 4, 100.00% of t-tests significant at alpha = 0.05, uncorrected; \n",
      " 100.00% of t-tests significant at FWER = 0.05, Bonferroni-Corrected; \n",
      "100.00% of t-tests significant at FWER = 0.05, Benjamini-Hochberg corrected\n",
      "When difference in means is 5, 100.00% of t-tests significant at alpha = 0.05, uncorrected; \n",
      " 100.00% of t-tests significant at FWER = 0.05, Bonferroni-Corrected; \n",
      "100.00% of t-tests significant at FWER = 0.05, Benjamini-Hochberg corrected\n",
      "When difference in means is 6, 100.00% of t-tests significant at alpha = 0.05, uncorrected; \n",
      " 100.00% of t-tests significant at FWER = 0.05, Bonferroni-Corrected; \n",
      "100.00% of t-tests significant at FWER = 0.05, Benjamini-Hochberg corrected\n",
      "When difference in means is 7, 100.00% of t-tests significant at alpha = 0.05, uncorrected; \n",
      " 100.00% of t-tests significant at FWER = 0.05, Bonferroni-Corrected; \n",
      "100.00% of t-tests significant at FWER = 0.05, Benjamini-Hochberg corrected\n",
      "When difference in means is 8, 100.00% of t-tests significant at alpha = 0.05, uncorrected; \n",
      " 100.00% of t-tests significant at FWER = 0.05, Bonferroni-Corrected; \n",
      "100.00% of t-tests significant at FWER = 0.05, Benjamini-Hochberg corrected\n",
      "When difference in means is 9, 100.00% of t-tests significant at alpha = 0.05, uncorrected; \n",
      " 100.00% of t-tests significant at FWER = 0.05, Bonferroni-Corrected; \n",
      "100.00% of t-tests significant at FWER = 0.05, Benjamini-Hochberg corrected\n"
     ]
    }
   ],
   "source": [
    "for x in np.arange(1,10,1):\n",
    "    p_list_new=[] #empty array\n",
    "    for test in np.arange(n_test):\n",
    "        X1_new = np.random.normal(1, 1, 25)\n",
    "        X2_new = np.random.normal(1+x, 1, 25)\n",
    "        tstat, pval_new = st.ttest_ind(X1_new, X2_new)\n",
    "        p_list_new.append(pval_new)\n",
    "\n",
    "    sig_count_new= sum(map(lambda x : x<0.05, p_list_new))\n",
    "    #Bonferroni Correction\n",
    "    reject1_new, p_correct1_new, _, alpha_correct1_new = mt.multipletests(p_list_new, alpha=0.05, method='bonferroni')\n",
    "    #Benjamini-Hochberg\n",
    "    reject2_new, p_correct2_new, _, alpha_correct2_new = mt.multipletests(p_list_new, alpha=0.05, method='fdr_bh')\n",
    "\n",
    "    print(f'When difference in means is {x}, {(sig_count_new/n_test)*100:.2f}% of t-tests significant at alpha = 0.05, uncorrected; \\n {(sum(reject1_new)/n_test)*100:.2f}% of t-tests significant at FWER = 0.05, Bonferroni-Corrected; \\n{(sum(reject2_new)/n_test)*100:.2f}% of t-tests significant at FWER = 0.05, Benjamini-Hochberg corrected')"
   ]
  }
 ],
 "metadata": {
  "kernelspec": {
   "display_name": "Python 3 (ipykernel)",
   "language": "python",
   "name": "python3"
  },
  "language_info": {
   "codemirror_mode": {
    "name": "ipython",
    "version": 3
   },
   "file_extension": ".py",
   "mimetype": "text/x-python",
   "name": "python",
   "nbconvert_exporter": "python",
   "pygments_lexer": "ipython3",
   "version": "3.9.6"
  }
 },
 "nbformat": 4,
 "nbformat_minor": 5
}
