{
 "cells": [
  {
   "cell_type": "markdown",
   "id": "bb8fed17-8f81-4a70-9a83-643fa87e9af0",
   "metadata": {},
   "source": [
    "## Measures of Association I"
   ]
  },
  {
   "cell_type": "code",
   "execution_count": 51,
   "id": "0b37fc1a-3df7-4024-83f0-29d72a3623c0",
   "metadata": {},
   "outputs": [],
   "source": [
    "#import libraries\n",
    "import numpy as np\n",
    "import matplotlib.pyplot as plt\n",
    "import scipy.stats as st\n",
    "from statsmodels.stats.power import TTestPower"
   ]
  },
  {
   "cell_type": "markdown",
   "id": "eb403760-941d-47d5-882c-9698ceb658da",
   "metadata": {},
   "source": [
    "#### Parametric Exercises\n",
    "Let's examine the relationship between these two measured variables:\n",
    "Wing length|Tail length\n",
    ":-:|:-:\n",
    "10.4|7.4\n",
    "10.8| 7.6\n",
    "11.1|7.9\n",
    "10.2|7.2\n",
    "10.3|7.4\n",
    "10.2|7.1\n",
    "10.7|7.4\n",
    "10.5|7.2\n",
    "10.8|7.8\n",
    "11.2|7.7\n",
    "10.6|7.8\n",
    "11.4|8.3\n",
    "\n",
    "Assume Wing length is the X variable and Tail Length is the Y variable, both measured in cm.\n",
    "\n",
    "**1. Plot X vs Y. Do they look related?**"
   ]
  },
  {
   "cell_type": "code",
   "execution_count": 35,
   "id": "7b95b0fe-d227-4218-8dc5-6c7fb3d65199",
   "metadata": {},
   "outputs": [
    {
     "data": {
      "image/png": "[encoded data removed]",
      "text/plain": [
       "<Figure size 640x480 with 1 Axes>"
      ]
     },
     "metadata": {},
     "output_type": "display_data"
    }
   ],
   "source": [
    "#define dataset\n",
    "wing=[10.4, 10.8, 11.1, 10.2, 10.3, 10.2, 10.7, 10.5, 10.8, 11.2, 10.6, 11.4]\n",
    "tail=[7.4, 7.6, 7.9, 7.2, 7.4, 7.1, 7.4, 7.2, 7.8, 7.7, 7.8, 8.3]\n",
    "\n",
    "#plot\n",
    "plt.scatter(wing, tail, color='green')\n",
    "plt.xlabel('Wing Length (cm)')\n",
    "plt.ylabel('Tail Length (cm)')\n",
    "plt.show()"
   ]
  },
  {
   "cell_type": "code",
   "execution_count": 36,
   "id": "f5e4c8e9-141d-4acf-a587-735b297e25b1",
   "metadata": {},
   "outputs": [],
   "source": [
    "# Based on the plot above, these variables do look to be positively correlated."
   ]
  },
  {
   "cell_type": "markdown",
   "id": "0a3b863c-ae8b-4f57-b41e-a11c58791744",
   "metadata": {},
   "source": [
    "**2. Calculate r<sub>X,Y</sub> and r<sub>Y,X</sub>, first using the equations above and then using either the Python numpy function corrcoef or Matlab's built-in corrcoef. Did you get the same answers?**"
   ]
  },
  {
   "cell_type": "code",
   "execution_count": 37,
   "id": "141ba98a-b155-49df-ac30-a1c51d182c8a",
   "metadata": {},
   "outputs": [
    {
     "name": "stdout",
     "output_type": "stream",
     "text": [
      "Calculated rx,y = ry,x = 0.870\n",
      "Function rx,y = ry,x = 0.870\n"
     ]
    }
   ],
   "source": [
    "#calculated\n",
    "x_bar=np.mean(wing)\n",
    "y_bar=np.mean(tail)\n",
    "num=np.sum((wing-x_bar)*(tail-y_bar))\n",
    "denom=np.sqrt(np.sum((wing-x_bar)**2))*np.sqrt(np.sum((tail-y_bar)**2))\n",
    "rxy=num/denom\n",
    "print(f\"Calculated rx,y = ry,x = {rxy:.3f}\")\n",
    "\n",
    "#function\n",
    "r_funct=np.corrcoef(wing, tail)\n",
    "r=r_funct[0,1]\n",
    "print(f\"Function rx,y = ry,x = {r:.3f}\")"
   ]
  },
  {
   "cell_type": "markdown",
   "id": "365b41fc-bc1a-4084-8199-3dc0862c5a22",
   "metadata": {},
   "source": [
    "**3. What is the standard error of r<sub>X,Y</sub>? The 95% confidence intervals computed from the standard error?**"
   ]
  },
  {
   "cell_type": "code",
   "execution_count": 39,
   "id": "f77c5dff-3ceb-42eb-abe8-3b159e8da729",
   "metadata": {},
   "outputs": [
    {
     "name": "stdout",
     "output_type": "stream",
     "text": [
      "SE of r=0.156, 95% CI from 0.59 to 0.963\n"
     ]
    }
   ],
   "source": [
    "#stardard error\n",
    "n=np.size(wing)\n",
    "se=np.sqrt((1-(r**2))/(n-2)) #from function in notebook\n",
    "\n",
    "#get 95% CI\n",
    "## fisher's z-transformation of r:\n",
    "z=0.5 * np.log((1+r)/(1-r))\n",
    "\n",
    "## compute its SD:\n",
    "sz=np.sqrt(1/(n-3))\n",
    "\n",
    "## compute CI's in z-space:\n",
    "z_crit=st.norm.ppf((1-0.95)/2) #2 tailed\n",
    "z_lower=z+(z_crit*sz)\n",
    "z_upper=z-(z_crit*sz)\n",
    "\n",
    "## transform z's back\n",
    "ci_lower=(np.exp(2*z_lower)-1)/(np.exp(2*z_lower)+1)\n",
    "ci_upper=(np.exp(2*z_upper)-1)/(np.exp(2*z_upper)+1)\n",
    "\n",
    "print(f\"SE of r={se:.3f}, 95% CI from {ci_lower:.2f} to {ci_upper:.3f}\")"
   ]
  },
  {
   "cell_type": "markdown",
   "id": "55cec7d5-fe8a-4e97-84bb-fdef667a6c49",
   "metadata": {},
   "source": [
    "**4. Should the value of r<sub>X,Y</sub> be considered significant at the p < 0.05 level, given a two-tailed test (i.e., we reject if the test statistic is too large on either tail of the null distribution) for H<sub>0</sub>:r<sub>X,Y</sub>=0?**"
   ]
  },
  {
   "cell_type": "code",
   "execution_count": 42,
   "id": "56e7b743-d5d4-4c1c-9053-764ca1b8ab0e",
   "metadata": {},
   "outputs": [
    {
     "name": "stdout",
     "output_type": "stream",
     "text": [
      "p=0.00023\n"
     ]
    }
   ],
   "source": [
    "t=r/se\n",
    "p_t=2*(st.t.sf(t, n-2)) #doubling b/c st.t.sf assumes 1-tailed\n",
    "print(f\"p={p_t:.5f}\")"
   ]
  },
  {
   "cell_type": "markdown",
   "id": "4ee2c911-e720-41e9-810f-1a00d537ad51",
   "metadata": {},
   "source": [
    "**5. Yale does the exact same study and finds that his correlation value is 0.75. Is this the same as yours? That is, evaluate H<sub>0</sub>:r<sub>X,Y</sub>=0.75?**"
   ]
  },
  {
   "cell_type": "code",
   "execution_count": 48,
   "id": "13d05c63-b242-4f5e-ba4b-975f16547070",
   "metadata": {},
   "outputs": [
    {
     "name": "stdout",
     "output_type": "stream",
     "text": [
      "p=0.27803\n"
     ]
    }
   ],
   "source": [
    "#z-tranform\n",
    "z_rs=0.5 * np.log((1+0.75)/(1-0.75))\n",
    "\n",
    "#get test-statistic\n",
    "lamb=(z-z_rs)/np.sqrt(1/(n-3))\n",
    "\n",
    "#test\n",
    "p_2=2*(st.norm.sf(lamb))\n",
    "print(f\"p={p_2:.5f}\")"
   ]
  },
  {
   "cell_type": "markdown",
   "id": "723c60b1-d34e-4c8f-bf1c-f183eda1d533",
   "metadata": {},
   "source": [
    "**6. Finally, calculate the statistical power and sample size needed to reject H<sub>0</sub>:r=0 when r >= 0.5.**"
   ]
  },
  {
   "cell_type": "code",
   "execution_count": 114,
   "id": "73e4a8a0-ba27-4a40-8a88-e06a1eb8ffc7",
   "metadata": {},
   "outputs": [
    {
     "name": "stdout",
     "output_type": "stream",
     "text": [
      "power=0.40550 when r>= 0.5 and n=12\n",
      "Sample size=28.0 when r>= 0.5 and power=0.8\n"
     ]
    }
   ],
   "source": [
    "#z-score r_alt=0.5\n",
    "z_alt=0.5 * np.log((1+0.5)/(1-0.5))\n",
    "\n",
    "#i think effect size is z-scored r_alt - r_h0=0\n",
    "\n",
    "power=TTestPower().power(z_alt, n, 0.05, df=n-2) \n",
    "print(f\"power={power:.5f} when r>= 0.5 and n={n}\")\n",
    "\n",
    "#now solve for sample size\n",
    "samp=TTestPower().solve_power(effect_size=z_alt, nobs=None, alpha=0.05, power=0.8, alternative=\"two-sided\") \n",
    "print(f\"Sample size={samp:.1f} when r>= 0.5 and power=0.8\")"
   ]
  }
 ],
 "metadata": {
  "kernelspec": {
   "display_name": "Python 3 (ipykernel)",
   "language": "python",
   "name": "python3"
  },
  "language_info": {
   "codemirror_mode": {
    "name": "ipython",
    "version": 3
   },
   "file_extension": ".py",
   "mimetype": "text/x-python",
   "name": "python",
   "nbconvert_exporter": "python",
   "pygments_lexer": "ipython3",
   "version": "3.9.6"
  }
 },
 "nbformat": 4,
 "nbformat_minor": 5
}
